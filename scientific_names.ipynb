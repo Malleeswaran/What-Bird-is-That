{
 "cells": [
  {
   "cell_type": "code",
   "execution_count": 16,
   "metadata": {
    "collapsed": true,
    "ExecuteTime": {
     "end_time": "2023-06-26T21:32:53.570586Z",
     "start_time": "2023-06-26T21:32:53.562959Z"
    }
   },
   "outputs": [],
   "source": [
    "import pandas as pd"
   ]
  },
  {
   "cell_type": "code",
   "execution_count": 17,
   "outputs": [],
   "source": [
    "df = pd.read_csv(\"birds.csv\")"
   ],
   "metadata": {
    "collapsed": false,
    "ExecuteTime": {
     "end_time": "2023-06-26T21:32:53.650450Z",
     "start_time": "2023-06-26T21:32:53.567684Z"
    }
   }
  },
  {
   "cell_type": "code",
   "execution_count": 18,
   "outputs": [
    {
     "data": {
      "text/plain": "   class id                      filepaths           labels data set  \\\n0       0.0  train/ABBOTTS BABBLER/001.jpg  ABBOTTS BABBLER    train   \n1       0.0  train/ABBOTTS BABBLER/007.jpg  ABBOTTS BABBLER    train   \n2       0.0  train/ABBOTTS BABBLER/008.jpg  ABBOTTS BABBLER    train   \n3       0.0  train/ABBOTTS BABBLER/009.jpg  ABBOTTS BABBLER    train   \n4       0.0  train/ABBOTTS BABBLER/002.jpg  ABBOTTS BABBLER    train   \n\n        scientific name  \n0  MALACOCINCLA ABBOTTI  \n1  MALACOCINCLA ABBOTTI  \n2  MALACOCINCLA ABBOTTI  \n3  MALACOCINCLA ABBOTTI  \n4  MALACOCINCLA ABBOTTI  ",
      "text/html": "<div>\n<style scoped>\n    .dataframe tbody tr th:only-of-type {\n        vertical-align: middle;\n    }\n\n    .dataframe tbody tr th {\n        vertical-align: top;\n    }\n\n    .dataframe thead th {\n        text-align: right;\n    }\n</style>\n<table border=\"1\" class=\"dataframe\">\n  <thead>\n    <tr style=\"text-align: right;\">\n      <th></th>\n      <th>class id</th>\n      <th>filepaths</th>\n      <th>labels</th>\n      <th>data set</th>\n      <th>scientific name</th>\n    </tr>\n  </thead>\n  <tbody>\n    <tr>\n      <th>0</th>\n      <td>0.0</td>\n      <td>train/ABBOTTS BABBLER/001.jpg</td>\n      <td>ABBOTTS BABBLER</td>\n      <td>train</td>\n      <td>MALACOCINCLA ABBOTTI</td>\n    </tr>\n    <tr>\n      <th>1</th>\n      <td>0.0</td>\n      <td>train/ABBOTTS BABBLER/007.jpg</td>\n      <td>ABBOTTS BABBLER</td>\n      <td>train</td>\n      <td>MALACOCINCLA ABBOTTI</td>\n    </tr>\n    <tr>\n      <th>2</th>\n      <td>0.0</td>\n      <td>train/ABBOTTS BABBLER/008.jpg</td>\n      <td>ABBOTTS BABBLER</td>\n      <td>train</td>\n      <td>MALACOCINCLA ABBOTTI</td>\n    </tr>\n    <tr>\n      <th>3</th>\n      <td>0.0</td>\n      <td>train/ABBOTTS BABBLER/009.jpg</td>\n      <td>ABBOTTS BABBLER</td>\n      <td>train</td>\n      <td>MALACOCINCLA ABBOTTI</td>\n    </tr>\n    <tr>\n      <th>4</th>\n      <td>0.0</td>\n      <td>train/ABBOTTS BABBLER/002.jpg</td>\n      <td>ABBOTTS BABBLER</td>\n      <td>train</td>\n      <td>MALACOCINCLA ABBOTTI</td>\n    </tr>\n  </tbody>\n</table>\n</div>"
     },
     "execution_count": 18,
     "metadata": {},
     "output_type": "execute_result"
    }
   ],
   "source": [
    "df.head()"
   ],
   "metadata": {
    "collapsed": false,
    "ExecuteTime": {
     "end_time": "2023-06-26T21:32:53.654995Z",
     "start_time": "2023-06-26T21:32:53.653167Z"
    }
   }
  },
  {
   "cell_type": "code",
   "execution_count": 19,
   "outputs": [],
   "source": [
    "import json\n",
    "\n",
    "label_to_scientific = {}\n",
    "\n",
    "for _, row in df.iterrows():\n",
    "    label = row[\"labels\"]\n",
    "    scientific_name = row[\"scientific name\"]\n",
    "\n",
    "    if label not in label_to_scientific:\n",
    "        label_to_scientific[label] = scientific_name"
   ],
   "metadata": {
    "collapsed": false,
    "ExecuteTime": {
     "end_time": "2023-06-26T21:32:55.175108Z",
     "start_time": "2023-06-26T21:32:53.656102Z"
    }
   }
  },
  {
   "cell_type": "code",
   "execution_count": 20,
   "outputs": [
    {
     "data": {
      "text/plain": "ABBOTTS BABBLER                 MALACOCINCLA ABBOTTI\nABBOTTS BOOBY                       PAPASULA ABBOTTI\nABYSSINIAN GROUND HORNBILL      BUCORVUS ABYSSINICUS\nAFRICAN CROWNED CRANE            BALEARICA REGULORUM\nAFRICAN EMERALD CUCKOO          CHRYSOCOCCYX CUPREUS\n                                       ...          \nDUNLIN                               CALIDRIS ALPINA\nSNOWY SHEATHBILL                       CHIONIS ALBUS\nKNOB BILLED DUCK              SARKIDIORNIS MELANOTOS\nGREY HEADED CHACHALACA           ORTALIS CINEREICEPS\nBLACK BREASTED PUFFBIRD        NOTHARCHUS PECTORALIS\nLength: 525, dtype: object"
     },
     "execution_count": 20,
     "metadata": {},
     "output_type": "execute_result"
    }
   ],
   "source": [
    "pd.Series(label_to_scientific)"
   ],
   "metadata": {
    "collapsed": false,
    "ExecuteTime": {
     "end_time": "2023-06-26T21:32:55.182330Z",
     "start_time": "2023-06-26T21:32:55.177188Z"
    }
   }
  },
  {
   "cell_type": "code",
   "execution_count": 21,
   "outputs": [],
   "source": [
    "with open(\"label_to_scientific.json\", \"w\") as json_file:\n",
    "    json.dump(label_to_scientific, json_file)"
   ],
   "metadata": {
    "collapsed": false,
    "ExecuteTime": {
     "end_time": "2023-06-26T21:32:55.186187Z",
     "start_time": "2023-06-26T21:32:55.183682Z"
    }
   }
  }
 ],
 "metadata": {
  "kernelspec": {
   "display_name": "Python 3",
   "language": "python",
   "name": "python3"
  },
  "language_info": {
   "codemirror_mode": {
    "name": "ipython",
    "version": 2
   },
   "file_extension": ".py",
   "mimetype": "text/x-python",
   "name": "python",
   "nbconvert_exporter": "python",
   "pygments_lexer": "ipython2",
   "version": "2.7.6"
  }
 },
 "nbformat": 4,
 "nbformat_minor": 0
}
